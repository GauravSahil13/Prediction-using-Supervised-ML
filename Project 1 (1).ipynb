{
 "cells": [
  {
   "cell_type": "markdown",
   "id": "96abd082",
   "metadata": {},
   "source": [
    "## **Prediction using Supervised Machine Learning**\n"
   ]
  },
  {
   "cell_type": "code",
   "execution_count": 1,
   "id": "7a70813a",
   "metadata": {},
   "outputs": [],
   "source": [
    "#importing necessary libraries\n",
    "import pandas as pd\n",
    "import numpy as np\n",
    "import matplotlib.pyplot as plt\n",
    "from sklearn.metrics import mean_absolute_error\n",
    "%matplotlib inline"
   ]
  },
  {
   "cell_type": "code",
   "execution_count": 2,
   "id": "fb864ab9",
   "metadata": {
    "scrolled": true
   },
   "outputs": [
    {
     "name": "stdout",
     "output_type": "stream",
     "text": [
      "Data loaded sucessfully\n"
     ]
    },
    {
     "data": {
      "text/html": [
       "<div>\n",
       "<style scoped>\n",
       "    .dataframe tbody tr th:only-of-type {\n",
       "        vertical-align: middle;\n",
       "    }\n",
       "\n",
       "    .dataframe tbody tr th {\n",
       "        vertical-align: top;\n",
       "    }\n",
       "\n",
       "    .dataframe thead th {\n",
       "        text-align: right;\n",
       "    }\n",
       "</style>\n",
       "<table border=\"1\" class=\"dataframe\">\n",
       "  <thead>\n",
       "    <tr style=\"text-align: right;\">\n",
       "      <th></th>\n",
       "      <th>Hours</th>\n",
       "      <th>Scores</th>\n",
       "    </tr>\n",
       "  </thead>\n",
       "  <tbody>\n",
       "    <tr>\n",
       "      <th>0</th>\n",
       "      <td>2.5</td>\n",
       "      <td>21</td>\n",
       "    </tr>\n",
       "    <tr>\n",
       "      <th>1</th>\n",
       "      <td>5.1</td>\n",
       "      <td>47</td>\n",
       "    </tr>\n",
       "    <tr>\n",
       "      <th>2</th>\n",
       "      <td>3.2</td>\n",
       "      <td>27</td>\n",
       "    </tr>\n",
       "    <tr>\n",
       "      <th>3</th>\n",
       "      <td>8.5</td>\n",
       "      <td>75</td>\n",
       "    </tr>\n",
       "    <tr>\n",
       "      <th>4</th>\n",
       "      <td>3.5</td>\n",
       "      <td>30</td>\n",
       "    </tr>\n",
       "    <tr>\n",
       "      <th>5</th>\n",
       "      <td>1.5</td>\n",
       "      <td>20</td>\n",
       "    </tr>\n",
       "    <tr>\n",
       "      <th>6</th>\n",
       "      <td>9.2</td>\n",
       "      <td>88</td>\n",
       "    </tr>\n",
       "    <tr>\n",
       "      <th>7</th>\n",
       "      <td>5.5</td>\n",
       "      <td>60</td>\n",
       "    </tr>\n",
       "    <tr>\n",
       "      <th>8</th>\n",
       "      <td>8.3</td>\n",
       "      <td>81</td>\n",
       "    </tr>\n",
       "    <tr>\n",
       "      <th>9</th>\n",
       "      <td>2.7</td>\n",
       "      <td>25</td>\n",
       "    </tr>\n",
       "  </tbody>\n",
       "</table>\n",
       "</div>"
      ],
      "text/plain": [
       "   Hours  Scores\n",
       "0    2.5      21\n",
       "1    5.1      47\n",
       "2    3.2      27\n",
       "3    8.5      75\n",
       "4    3.5      30\n",
       "5    1.5      20\n",
       "6    9.2      88\n",
       "7    5.5      60\n",
       "8    8.3      81\n",
       "9    2.7      25"
      ]
     },
     "execution_count": 2,
     "metadata": {},
     "output_type": "execute_result"
    }
   ],
   "source": [
    "#Loading data\n",
    "url = \"http://bit.ly/w-data\"\n",
    "df = pd.read_csv(url)\n",
    "print(\"Data loaded sucessfully\")\n",
    "df.head(10)"
   ]
  },
  {
   "cell_type": "code",
   "execution_count": 3,
   "id": "49b6bc44",
   "metadata": {},
   "outputs": [],
   "source": [
    "#Creating attributes and labels\n",
    "X_1D = df['Hours'].tolist()\n",
    "X = np.reshape(X_1D, (25,1))\n",
    "Y_1D = df['Scores'].tolist()\n",
    "Y = np.reshape(Y_1D, (25,1))"
   ]
  },
  {
   "cell_type": "code",
   "execution_count": 4,
   "id": "dc3cfffc",
   "metadata": {},
   "outputs": [
    {
     "data": {
      "image/png": "[encoded data removed]",
      "text/plain": [
       "<Figure size 432x288 with 1 Axes>"
      ]
     },
     "metadata": {
      "needs_background": "light"
     },
     "output_type": "display_data"
    },
    {
     "name": "stdout",
     "output_type": "stream",
     "text": [
      "Linear Pattern found\n"
     ]
    }
   ],
   "source": [
    "#Plotting Scores vs Hours Graph\n",
    "plt.plot(X,Y,'go')\n",
    "plt.xlabel('Hours Studied')\n",
    "plt.ylabel('Scores')\n",
    "plt.title('Scores vs Hours Studied')\n",
    "plt.show()\n",
    "print('Linear Pattern found')"
   ]
  },
  {
   "cell_type": "code",
   "execution_count": 5,
   "id": "afc41bf2",
   "metadata": {},
   "outputs": [],
   "source": [
    "#Splitting training and testing data\n",
    "X_train = X[:20]\n",
    "X_test = X[20:]\n",
    "Y_train = Y[:20]\n",
    "Y_test = Y[20:]"
   ]
  },
  {
   "cell_type": "code",
   "execution_count": 6,
   "id": "873a85dc",
   "metadata": {},
   "outputs": [
    {
     "name": "stdout",
     "output_type": "stream",
     "text": [
      "Model Training Succesful\n"
     ]
    }
   ],
   "source": [
    "#Training the model\n",
    "from sklearn.linear_model import LinearRegression\n",
    "regressor = LinearRegression()\n",
    "regressor.fit(X_train, Y_train)\n",
    "print(\"Model Training Succesful\")"
   ]
  },
  {
   "cell_type": "code",
   "execution_count": 7,
   "id": "fac20bed",
   "metadata": {},
   "outputs": [
    {
     "data": {
      "text/html": [
       "<div>\n",
       "<style scoped>\n",
       "    .dataframe tbody tr th:only-of-type {\n",
       "        vertical-align: middle;\n",
       "    }\n",
       "\n",
       "    .dataframe tbody tr th {\n",
       "        vertical-align: top;\n",
       "    }\n",
       "\n",
       "    .dataframe thead th {\n",
       "        text-align: right;\n",
       "    }\n",
       "</style>\n",
       "<table border=\"1\" class=\"dataframe\">\n",
       "  <thead>\n",
       "    <tr style=\"text-align: right;\">\n",
       "      <th></th>\n",
       "      <th>Actual</th>\n",
       "      <th>Predicted</th>\n",
       "      <th>%Error</th>\n",
       "    </tr>\n",
       "  </thead>\n",
       "  <tbody>\n",
       "    <tr>\n",
       "      <th>0</th>\n",
       "      <td>30</td>\n",
       "      <td>28.736325</td>\n",
       "      <td>4.212248</td>\n",
       "    </tr>\n",
       "    <tr>\n",
       "      <th>1</th>\n",
       "      <td>54</td>\n",
       "      <td>48.729136</td>\n",
       "      <td>9.760859</td>\n",
       "    </tr>\n",
       "    <tr>\n",
       "      <th>2</th>\n",
       "      <td>35</td>\n",
       "      <td>39.208750</td>\n",
       "      <td>-12.025001</td>\n",
       "    </tr>\n",
       "    <tr>\n",
       "      <th>3</th>\n",
       "      <td>76</td>\n",
       "      <td>68.721947</td>\n",
       "      <td>9.576385</td>\n",
       "    </tr>\n",
       "    <tr>\n",
       "      <th>4</th>\n",
       "      <td>86</td>\n",
       "      <td>77.290295</td>\n",
       "      <td>10.127564</td>\n",
       "    </tr>\n",
       "  </tbody>\n",
       "</table>\n",
       "</div>"
      ],
      "text/plain": [
       "   Actual  Predicted     %Error\n",
       "0      30  28.736325   4.212248\n",
       "1      54  48.729136   9.760859\n",
       "2      35  39.208750 -12.025001\n",
       "3      76  68.721947   9.576385\n",
       "4      86  77.290295  10.127564"
      ]
     },
     "execution_count": 7,
     "metadata": {},
     "output_type": "execute_result"
    }
   ],
   "source": [
    "#Testing the model\n",
    "Y_pred = regressor.predict(X_test)\n",
    "Y_test_1D =  Y_test.flatten()\n",
    "Y_pred_1D = Y_pred.flatten()\n",
    "df1 = pd.DataFrame({'Actual':Y_test_1D, 'Predicted':Y_pred_1D, '%Error':((Y_test_1D-Y_pred_1D)/Y_test_1D)*100})\n",
    "df1\n"
   ]
  },
  {
   "cell_type": "code",
   "execution_count": 8,
   "id": "22fe1a1a",
   "metadata": {},
   "outputs": [
    {
     "name": "stdout",
     "output_type": "stream",
     "text": [
      "If Study: 9.25 hours\n",
      "Your Score: 91.09485441683265\n"
     ]
    }
   ],
   "source": [
    "#Testing the Model for desired input\n",
    "print(\"If Study: 9.25 hours\")\n",
    "Y_pred_own = regressor.predict([[9.25]])\n",
    "res = Y_pred_own[0,0]\n",
    "print(f\"Your Score: {res}\")"
   ]
  },
  {
   "cell_type": "code",
   "execution_count": 9,
   "id": "20b18b0e",
   "metadata": {},
   "outputs": [
    {
     "name": "stdout",
     "output_type": "stream",
     "text": [
      "Mean Absolute Error is 5.346209347444651\n"
     ]
    }
   ],
   "source": [
    "#Evaluating the model\n",
    "abs_error = mean_absolute_error(Y_test_1D,Y_pred_1D)\n",
    "print(f\"Mean Absolute Error is {abs_error}\")"
   ]
  },
  {
   "cell_type": "markdown",
   "id": "07da3b94",
   "metadata": {},
   "source": [
    "### **Author: Gaurav Kumar Sahil**"
   ]
  },
  {
   "cell_type": "code",
   "execution_count": null,
   "id": "9399d213",
   "metadata": {},
   "outputs": [],
   "source": []
  }
 ],
 "metadata": {
  "kernelspec": {
   "display_name": "Python 3",
   "language": "python",
   "name": "python3"
  },
  "language_info": {
   "codemirror_mode": {
    "name": "ipython",
    "version": 3
   },
   "file_extension": ".py",
   "mimetype": "text/x-python",
   "name": "python",
   "nbconvert_exporter": "python",
   "pygments_lexer": "ipython3",
   "version": "3.9.2"
  }
 },
 "nbformat": 4,
 "nbformat_minor": 5
}
